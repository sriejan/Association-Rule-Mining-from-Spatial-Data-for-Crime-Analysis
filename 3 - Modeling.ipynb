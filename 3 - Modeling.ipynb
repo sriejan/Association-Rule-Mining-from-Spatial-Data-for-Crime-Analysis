{
 "cells": [
  {
   "cell_type": "markdown",
   "metadata": {},
   "source": [
    "## MODELING"
   ]
  },
  {
   "cell_type": "code",
   "execution_count": 1,
   "metadata": {
    "collapsed": true
   },
   "outputs": [],
   "source": [
    "import os\n",
    "import sys\n",
    "import numpy\n",
    "import pandas\n",
    "import matplotlib.pyplot as plt\n",
    "sys.path.append(os.path.abspath(\"./util\"))\n",
    "from pymining import itemmining, assocrules\n",
    "from fp_growth import find_frequent_itemsets as get_freq_itemset\n",
    "\n",
    "%matplotlib inline\n",
    "plt.style.use('ggplot')\n",
    "pandas.set_option('display.max_rows', 10000, \"display.max_columns\", 100)"
   ]
  },
  {
   "cell_type": "code",
   "execution_count": 2,
   "metadata": {
    "collapsed": false
   },
   "outputs": [],
   "source": [
    "to_tuple   = lambda trans_list: tuple([tuple(trans) for trans in trans_list])\n",
    "# percentage = lambda x, tot=len(transactions): (x * 1.0) / tot\n",
    "\n",
    "def only_rules_with(columns, dataframe, rules, only_cons=False):\n",
    "    list_of_sets = [set(dataframe[column].values) for column in columns]\n",
    "    result = []\n",
    "    for rule in rules:\n",
    "        current_itemset = rule[1] if only_cons else rule[0] | rule[1]\n",
    "        cond = True\n",
    "        for column_set in list_of_sets:\n",
    "            if (current_itemset & column_set) == set():\n",
    "                cond = False\n",
    "        if cond:\n",
    "            result.append(rule)\n",
    "    return result\n",
    "\n",
    "def print_that(filepath, rules):\n",
    "    with open(filepath, 'w+') as result_file:\n",
    "        for rule in rules:\n",
    "            result_file.write(rule_to_string(rule))\n",
    "        \n",
    "def rule_to_string(rule):\n",
    "    return str([j for j in rule[0]]) + \"  ->  \" + str([z for z in rule[1]]) + \\\n",
    "    \", supp: \" + str(rule[2]) + \\\n",
    "    \", conf: \" + str(rule[3]) + \\\n",
    "    \"\\n\""
   ]
  },
  {
   "cell_type": "markdown",
   "metadata": {},
   "source": [
    "### Sampled Dataset"
   ]
  },
  {
   "cell_type": "code",
   "execution_count": 3,
   "metadata": {
    "collapsed": false
   },
   "outputs": [
    {
     "data": {
      "text/plain": [
       "(2954, 21)"
      ]
     },
     "execution_count": 3,
     "metadata": {},
     "output_type": "execute_result"
    }
   ],
   "source": [
    "df = pandas.read_csv(\"./dataset/crimes_census_5poi_sampled100.csv\", index_col=0, sep=\"\\t\")\n",
    "df.shape"
   ]
  },
  {
   "cell_type": "code",
   "execution_count": 4,
   "metadata": {
    "collapsed": false,
    "scrolled": true
   },
   "outputs": [
    {
     "name": "stdout",
     "output_type": "stream",
     "text": [
      "(2954, 10)\n"
     ]
    },
    {
     "data": {
      "text/html": [
       "<div>\n",
       "<table border=\"1\" class=\"dataframe\">\n",
       "  <thead>\n",
       "    <tr style=\"text-align: right;\">\n",
       "      <th></th>\n",
       "      <th>ARPCIncome</th>\n",
       "      <th>ARPerHEdu</th>\n",
       "      <th>ARPerWork</th>\n",
       "      <th>ARPopDen</th>\n",
       "      <th>ARPerAA</th>\n",
       "      <th>ARPerM1724</th>\n",
       "      <th>ARPerSF</th>\n",
       "      <th>NIBRSclass</th>\n",
       "      <th>Place2</th>\n",
       "      <th>Report_Dat</th>\n",
       "    </tr>\n",
       "  </thead>\n",
       "  <tbody>\n",
       "    <tr>\n",
       "      <th>count</th>\n",
       "      <td>2954</td>\n",
       "      <td>2954</td>\n",
       "      <td>2954</td>\n",
       "      <td>2954</td>\n",
       "      <td>2954</td>\n",
       "      <td>2954</td>\n",
       "      <td>2954</td>\n",
       "      <td>2954</td>\n",
       "      <td>2954</td>\n",
       "      <td>2954</td>\n",
       "    </tr>\n",
       "    <tr>\n",
       "      <th>unique</th>\n",
       "      <td>7</td>\n",
       "      <td>7</td>\n",
       "      <td>7</td>\n",
       "      <td>7</td>\n",
       "      <td>7</td>\n",
       "      <td>7</td>\n",
       "      <td>7</td>\n",
       "      <td>52</td>\n",
       "      <td>60</td>\n",
       "      <td>36</td>\n",
       "    </tr>\n",
       "    <tr>\n",
       "      <th>top</th>\n",
       "      <td>inc-1/7</td>\n",
       "      <td>edu-4/7</td>\n",
       "      <td>empl-1/7</td>\n",
       "      <td>popden-5/7</td>\n",
       "      <td>afro-1/7</td>\n",
       "      <td>youngm-4/7</td>\n",
       "      <td>sinpar-6/7</td>\n",
       "      <td>Drug/Narcotic Violations</td>\n",
       "      <td>Private Residence</td>\n",
       "      <td>07-2x</td>\n",
       "    </tr>\n",
       "    <tr>\n",
       "      <th>freq</th>\n",
       "      <td>528</td>\n",
       "      <td>482</td>\n",
       "      <td>590</td>\n",
       "      <td>535</td>\n",
       "      <td>596</td>\n",
       "      <td>678</td>\n",
       "      <td>585</td>\n",
       "      <td>100</td>\n",
       "      <td>511</td>\n",
       "      <td>109</td>\n",
       "    </tr>\n",
       "  </tbody>\n",
       "</table>\n",
       "</div>"
      ],
      "text/plain": [
       "       ARPCIncome ARPerHEdu ARPerWork    ARPopDen   ARPerAA  ARPerM1724  \\\n",
       "count        2954      2954      2954        2954      2954        2954   \n",
       "unique          7         7         7           7         7           7   \n",
       "top       inc-1/7   edu-4/7  empl-1/7  popden-5/7  afro-1/7  youngm-4/7   \n",
       "freq          528       482       590         535       596         678   \n",
       "\n",
       "           ARPerSF                NIBRSclass             Place2 Report_Dat  \n",
       "count         2954                      2954               2954       2954  \n",
       "unique           7                        52                 60         36  \n",
       "top     sinpar-6/7  Drug/Narcotic Violations  Private Residence      07-2x  \n",
       "freq           585                       100                511        109  "
      ]
     },
     "execution_count": 4,
     "metadata": {},
     "output_type": "execute_result"
    }
   ],
   "source": [
    "# without predicted values\n",
    "# df = df.drop([\"ARPopDen\", \"ARPerAA\", \"ARPerM1724\", \"ARPerSF\"], axis=1)\n",
    "df = df.drop([\"BLOCKID10\", \"Street_Nam\", \"ARPerRMI5L\", \"ARPer3MU\", \"ARHeteInx\", \"ARPerHOwn\"], axis=1)\n",
    "df = df.drop([\"First_POI\", \"Second_POI\", \"Third_POI\", \"Fourth_POI\", \"Fifth_POI\"], axis=1)\n",
    "transactions = [row.tolist() for i, row in df.iterrows()]\n",
    "\n",
    "print df.shape\n",
    "df.describe()"
   ]
  },
  {
   "cell_type": "markdown",
   "metadata": {},
   "source": [
    "### Frequent Itemset generation"
   ]
  },
  {
   "cell_type": "code",
   "execution_count": 5,
   "metadata": {
    "collapsed": true
   },
   "outputs": [],
   "source": [
    "min_supp = 10"
   ]
  },
  {
   "cell_type": "markdown",
   "metadata": {},
   "source": [
    "#### Relim\n",
    "[Paper 1](https://pdfs.semanticscholar.org/cb3e/76d1773d08545f21daf28cc87b051604aa95.pdf)\n",
    "[Paper 2](http://www.borgelt.net/papers/relim.pdf)"
   ]
  },
  {
   "cell_type": "code",
   "execution_count": 6,
   "metadata": {
    "collapsed": false
   },
   "outputs": [
    {
     "name": "stdout",
     "output_type": "stream",
     "text": [
      "number of frequent itemsets 21140 \n",
      "\n",
      "CPU times: user 872 ms, sys: 52 ms, total: 924 ms\n",
      "Wall time: 871 ms\n"
     ]
    }
   ],
   "source": [
    "%%time\n",
    "relim_input = itemmining.get_relim_input(to_tuple(transactions))\n",
    "relim_itemsets = itemmining.relim(relim_input, min_support=min_supp)\n",
    "print \"number of frequent itemsets\", len(relim_itemsets), \"\\n\""
   ]
  },
  {
   "cell_type": "markdown",
   "metadata": {},
   "source": [
    "### Rules generation"
   ]
  },
  {
   "cell_type": "code",
   "execution_count": 7,
   "metadata": {
    "collapsed": true
   },
   "outputs": [],
   "source": [
    "min_conf = 0.60"
   ]
  },
  {
   "cell_type": "code",
   "execution_count": 8,
   "metadata": {
    "collapsed": false
   },
   "outputs": [
    {
     "name": "stdout",
     "output_type": "stream",
     "text": [
      "175934\n",
      "CPU times: user 3.48 s, sys: 88 ms, total: 3.57 s\n",
      "Wall time: 3.48 s\n"
     ]
    }
   ],
   "source": [
    "%%time\n",
    "rules = assocrules.mine_assoc_rules(relim_itemsets, min_support=min_supp, min_confidence=min_conf)\n",
    "print len(rules)"
   ]
  },
  {
   "cell_type": "markdown",
   "metadata": {},
   "source": [
    "#### Filtering the rules\n",
    "leaving only rules that have crimes or that have crime in consequent (RHS)"
   ]
  },
  {
   "cell_type": "code",
   "execution_count": 9,
   "metadata": {
    "collapsed": false
   },
   "outputs": [
    {
     "name": "stdout",
     "output_type": "stream",
     "text": [
      "# of rules with crimes: 48218\n",
      "# of rules with crimes in consequent: 4173\n"
     ]
    }
   ],
   "source": [
    "rules_with_crimes = only_rules_with([\"NIBRSclass\"], df, rules)\n",
    "print \"# of rules with crimes:\", len(rules_with_crimes)\n",
    "rules_with_crimes_in_cons = only_rules_with([\"NIBRSclass\"], df, rules, only_cons=True)\n",
    "print \"# of rules with crimes in consequent:\", len(rules_with_crimes_in_cons)"
   ]
  },
  {
   "cell_type": "code",
   "execution_count": 10,
   "metadata": {
    "collapsed": false,
    "scrolled": true
   },
   "outputs": [
    {
     "name": "stdout",
     "output_type": "stream",
     "text": [
      "['popden-1/7', 'School - Primary or Secondary', 'youngm-3/7']  ->  ['sinpar-7/7', 'inc-1/7', 'edu-6/7', 'afro-6/7', 'empl-1/7', 'Disorderly Conduct'], supp: 23, conf: 0.741935483871\n",
      "\n",
      "['School - Primary or Secondary', 'youngm-3/7', 'empl-1/7']  ->  ['sinpar-7/7', 'inc-1/7', 'edu-6/7', 'afro-6/7', 'popden-1/7', 'Disorderly Conduct'], supp: 23, conf: 0.741935483871\n",
      "\n"
     ]
    }
   ],
   "source": [
    "# printing some rules\n",
    "for rule in rules_with_crimes_in_cons[:2]:\n",
    "    print rule_to_string(rule)"
   ]
  },
  {
   "cell_type": "code",
   "execution_count": 11,
   "metadata": {
    "collapsed": true
   },
   "outputs": [],
   "source": [
    "# print_that('./dataset/result_file.txt', rules_with_crimes)\n",
    "# print_that('./dataset/result_file_only_cons.txt', rules_with_crimes_in_cons)"
   ]
  },
  {
   "cell_type": "markdown",
   "metadata": {},
   "source": [
    "---"
   ]
  },
  {
   "cell_type": "markdown",
   "metadata": {},
   "source": [
    "### Entire dataset"
   ]
  },
  {
   "cell_type": "code",
   "execution_count": 12,
   "metadata": {
    "collapsed": false
   },
   "outputs": [
    {
     "data": {
      "text/plain": [
       "(19106, 21)"
      ]
     },
     "execution_count": 12,
     "metadata": {},
     "output_type": "execute_result"
    }
   ],
   "source": [
    "df_entire = pandas.read_csv(\"./dataset/crimes_census_5poi.csv\", index_col=0, sep=\"\\t\")\n",
    "df_entire.shape"
   ]
  },
  {
   "cell_type": "code",
   "execution_count": 13,
   "metadata": {
    "collapsed": false
   },
   "outputs": [
    {
     "name": "stdout",
     "output_type": "stream",
     "text": [
      "(2954, 10)\n"
     ]
    },
    {
     "data": {
      "text/html": [
       "<div>\n",
       "<table border=\"1\" class=\"dataframe\">\n",
       "  <thead>\n",
       "    <tr style=\"text-align: right;\">\n",
       "      <th></th>\n",
       "      <th>ARPCIncome</th>\n",
       "      <th>ARPerHEdu</th>\n",
       "      <th>ARPerWork</th>\n",
       "      <th>ARPopDen</th>\n",
       "      <th>ARPerAA</th>\n",
       "      <th>ARPerM1724</th>\n",
       "      <th>ARPerSF</th>\n",
       "      <th>NIBRSclass</th>\n",
       "      <th>Place2</th>\n",
       "      <th>Report_Dat</th>\n",
       "    </tr>\n",
       "  </thead>\n",
       "  <tbody>\n",
       "    <tr>\n",
       "      <th>count</th>\n",
       "      <td>2954</td>\n",
       "      <td>2954</td>\n",
       "      <td>2954</td>\n",
       "      <td>2954</td>\n",
       "      <td>2954</td>\n",
       "      <td>2954</td>\n",
       "      <td>2954</td>\n",
       "      <td>2954</td>\n",
       "      <td>2954</td>\n",
       "      <td>2954</td>\n",
       "    </tr>\n",
       "    <tr>\n",
       "      <th>unique</th>\n",
       "      <td>7</td>\n",
       "      <td>7</td>\n",
       "      <td>7</td>\n",
       "      <td>7</td>\n",
       "      <td>7</td>\n",
       "      <td>7</td>\n",
       "      <td>7</td>\n",
       "      <td>52</td>\n",
       "      <td>60</td>\n",
       "      <td>36</td>\n",
       "    </tr>\n",
       "    <tr>\n",
       "      <th>top</th>\n",
       "      <td>inc-1/7</td>\n",
       "      <td>edu-4/7</td>\n",
       "      <td>empl-1/7</td>\n",
       "      <td>popden-5/7</td>\n",
       "      <td>afro-1/7</td>\n",
       "      <td>youngm-4/7</td>\n",
       "      <td>sinpar-6/7</td>\n",
       "      <td>Drug/Narcotic Violations</td>\n",
       "      <td>Private Residence</td>\n",
       "      <td>07-2x</td>\n",
       "    </tr>\n",
       "    <tr>\n",
       "      <th>freq</th>\n",
       "      <td>528</td>\n",
       "      <td>482</td>\n",
       "      <td>590</td>\n",
       "      <td>535</td>\n",
       "      <td>596</td>\n",
       "      <td>678</td>\n",
       "      <td>585</td>\n",
       "      <td>100</td>\n",
       "      <td>511</td>\n",
       "      <td>109</td>\n",
       "    </tr>\n",
       "  </tbody>\n",
       "</table>\n",
       "</div>"
      ],
      "text/plain": [
       "       ARPCIncome ARPerHEdu ARPerWork    ARPopDen   ARPerAA  ARPerM1724  \\\n",
       "count        2954      2954      2954        2954      2954        2954   \n",
       "unique          7         7         7           7         7           7   \n",
       "top       inc-1/7   edu-4/7  empl-1/7  popden-5/7  afro-1/7  youngm-4/7   \n",
       "freq          528       482       590         535       596         678   \n",
       "\n",
       "           ARPerSF                NIBRSclass             Place2 Report_Dat  \n",
       "count         2954                      2954               2954       2954  \n",
       "unique           7                        52                 60         36  \n",
       "top     sinpar-6/7  Drug/Narcotic Violations  Private Residence      07-2x  \n",
       "freq           585                       100                511        109  "
      ]
     },
     "execution_count": 13,
     "metadata": {},
     "output_type": "execute_result"
    }
   ],
   "source": [
    "# without predicted values\n",
    "# df_entire = df_entire.drop([\"ARPopDen\", \"ARPerAA\", \"ARPerM1724\", \"ARPerSF\"], axis=1)\n",
    "df_entire = df_entire.drop([\"BLOCKID10\", \"Street_Nam\", \"ARHeteInx\", \"ARPerHOwn\", \n",
    "                            \"ARPerRMI5L\", \"ARPer3MU\"], axis=1)\n",
    "df_entire = df_entire.drop([\"First_POI\", \"Second_POI\", \"Third_POI\", \"Fourth_POI\", \"Fifth_POI\"], axis=1)\n",
    "transactions_entire = [row.tolist() for i, row in df_entire.iterrows()]\n",
    "\n",
    "print df.shape\n",
    "df.describe()"
   ]
  },
  {
   "cell_type": "markdown",
   "metadata": {},
   "source": [
    "### Frequent Itemset generation"
   ]
  },
  {
   "cell_type": "code",
   "execution_count": 14,
   "metadata": {
    "collapsed": true
   },
   "outputs": [],
   "source": [
    "min_supp = 70"
   ]
  },
  {
   "cell_type": "code",
   "execution_count": 15,
   "metadata": {
    "collapsed": false
   },
   "outputs": [
    {
     "name": "stdout",
     "output_type": "stream",
     "text": [
      "CPU times: user 0 ns, sys: 0 ns, total: 0 ns\n",
      "Wall time: 7.15 µs\n",
      "number of frequent itemsets 17086 \n",
      "\n"
     ]
    }
   ],
   "source": [
    "%time\n",
    "relim_input_entire = itemmining.get_relim_input(to_tuple(transactions_entire))\n",
    "relim_itemsets_entire = itemmining.relim(relim_input_entire, min_support=min_supp)\n",
    "print \"number of frequent itemsets\", len(relim_itemsets_entire), \"\\n\""
   ]
  },
  {
   "cell_type": "markdown",
   "metadata": {},
   "source": [
    "### Rules generation"
   ]
  },
  {
   "cell_type": "code",
   "execution_count": 16,
   "metadata": {
    "collapsed": true
   },
   "outputs": [],
   "source": [
    "min_conf = 0.60"
   ]
  },
  {
   "cell_type": "code",
   "execution_count": 17,
   "metadata": {
    "collapsed": false
   },
   "outputs": [
    {
     "name": "stdout",
     "output_type": "stream",
     "text": [
      "101352\n",
      "CPU times: user 2.49 s, sys: 52 ms, total: 2.54 s\n",
      "Wall time: 2.47 s\n"
     ]
    }
   ],
   "source": [
    "%%time\n",
    "rules_entire = assocrules.mine_assoc_rules(relim_itemsets_entire, min_support=min_supp, min_confidence=min_conf)\n",
    "print len(rules_entire)"
   ]
  },
  {
   "cell_type": "code",
   "execution_count": 18,
   "metadata": {
    "collapsed": false
   },
   "outputs": [
    {
     "name": "stdout",
     "output_type": "stream",
     "text": [
      "# of rules with crimes: 23332\n",
      "# of rules with crimes in consequent: 1461\n"
     ]
    }
   ],
   "source": [
    "rules_with_crimes_entire = only_rules_with([\"NIBRSclass\"], df_entire, rules_entire)\n",
    "print \"# of rules with crimes:\", len(rules_with_crimes_entire)\n",
    "rules_with_crimes_in_cons_entire = only_rules_with([\"NIBRSclass\"], df_entire, rules_entire, only_cons=True)\n",
    "print \"# of rules with crimes in consequent:\", len(rules_with_crimes_in_cons_entire)"
   ]
  },
  {
   "cell_type": "code",
   "execution_count": 19,
   "metadata": {
    "collapsed": false
   },
   "outputs": [
    {
     "name": "stdout",
     "output_type": "stream",
     "text": [
      "['Department Store', 'empl-6/7', 'inc-6/7', 'youngm-1/7', 'sinpar-2/7', 'popden-1/7', 'edu-4/7']  ->  ['afro-1/7', 'Shoplifting'], supp: 78, conf: 0.838709677419\n",
      "\n",
      "['Department Store', 'youngm-1/7', 'sinpar-2/7', 'inc-6/7', 'popden-1/7', 'edu-4/7']  ->  ['afro-1/7', 'empl-6/7', 'Shoplifting'], supp: 78, conf: 0.838709677419\n",
      "\n",
      "['Department Store', 'sinpar-2/7', 'inc-6/7', 'popden-1/7', 'edu-4/7']  ->  ['afro-1/7', 'youngm-1/7', 'empl-6/7', 'Shoplifting'], supp: 78, conf: 0.838709677419\n",
      "\n"
     ]
    }
   ],
   "source": [
    "for rule in rules_with_crimes_in_cons_entire[:3]:\n",
    "    print rule_to_string(rule)"
   ]
  },
  {
   "cell_type": "markdown",
   "metadata": {},
   "source": [
    "---\n",
    "### Evaluation"
   ]
  },
  {
   "cell_type": "code",
   "execution_count": 20,
   "metadata": {
    "collapsed": true
   },
   "outputs": [],
   "source": [
    "def lift(rule_supp, ant_supp, cons_supp):\n",
    "    return (rule_supp / 1.0) / (ant_supp * cons_supp)\n",
    "\n",
    "def conviction(cons_supp, rule_conf):\n",
    "    return (1.0 - cons_supp) / (1.0 - rule_conf)"
   ]
  },
  {
   "cell_type": "code",
   "execution_count": 21,
   "metadata": {
    "collapsed": false
   },
   "outputs": [],
   "source": [
    "for rule in rules:\n",
    "    l = lift(relim_itemsets[rule[0] | rule[1]], relim_itemsets[rule[0]], relim_itemsets[rule[1]])\n",
    "    if l > 1:\n",
    "        print l\n",
    "    # c = conviction(relim_itemsets[rule[1]], rule[3])"
   ]
  }
 ],
 "metadata": {
  "kernelspec": {
   "display_name": "Python 2",
   "language": "python",
   "name": "python2"
  },
  "language_info": {
   "codemirror_mode": {
    "name": "ipython",
    "version": 2
   },
   "file_extension": ".py",
   "mimetype": "text/x-python",
   "name": "python",
   "nbconvert_exporter": "python",
   "pygments_lexer": "ipython2",
   "version": "2.7.13"
  }
 },
 "nbformat": 4,
 "nbformat_minor": 2
}
